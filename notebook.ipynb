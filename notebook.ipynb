{
 "cells": [
  {
   "cell_type": "code",
   "execution_count": 3,
   "metadata": {},
   "outputs": [],
   "source": [
    "import pandas as pd\n",
    "from preprocessor import preprocessor"
   ]
  },
  {
   "cell_type": "code",
   "execution_count": 4,
   "metadata": {},
   "outputs": [
    {
     "name": "stdout",
     "output_type": "stream",
     "text": [
      "[[-1.43335313 -0.39165571 -0.08202791 ...  0.          0.\n",
      "   0.        ]\n",
      " [-1.27168903 -0.37968664 -0.1082525  ...  0.          0.\n",
      "   0.        ]\n",
      " [-1.59501722 -0.39801428 -0.067949   ...  0.          0.\n",
      "   0.        ]\n",
      " [-1.11002493 -0.37673838 -0.11464054 ...  0.          0.\n",
      "   0.        ]\n",
      " [-0.62503264 -0.36639746 -0.13695666 ...  0.          0.\n",
      "   0.        ]]\n"
     ]
    }
   ],
   "source": [
    "df = pd.read_csv('data/dataframes/raw_numerical.csv')\n",
    "X = df.drop(columns='finishing_pos')\n",
    "\n",
    "X_scaled = preprocessor.fit_transform(X)\n",
    "\n",
    "print(X_scaled[:5])"
   ]
  },
  {
   "cell_type": "code",
   "execution_count": null,
   "metadata": {},
   "outputs": [],
   "source": []
  }
 ],
 "metadata": {
  "kernelspec": {
   "display_name": "Python 3",
   "language": "python",
   "name": "python3"
  },
  "language_info": {
   "codemirror_mode": {
    "name": "ipython",
    "version": 3
   },
   "file_extension": ".py",
   "mimetype": "text/x-python",
   "name": "python",
   "nbconvert_exporter": "python",
   "pygments_lexer": "ipython3",
   "version": "3.12.4"
  }
 },
 "nbformat": 4,
 "nbformat_minor": 2
}
