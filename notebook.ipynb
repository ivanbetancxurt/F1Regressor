{
 "cells": [
  {
   "cell_type": "code",
   "execution_count": 1,
   "metadata": {},
   "outputs": [],
   "source": [
    "from train_test import train_test"
   ]
  },
  {
   "cell_type": "code",
   "execution_count": 2,
   "metadata": {},
   "outputs": [
    {
     "name": "stdout",
     "output_type": "stream",
     "text": [
      "⚠️ model__n_estimators = 200 at grid edge [50, 100, 200]!\n",
      "⚠️ model__max_depth = 20 at grid edge [None, 10, 20]!\n",
      "⚠️ model__min_samples_leaf = 1 at grid edge [1, 3, 5]!\n",
      "{'model': Pipeline(steps=[('preprocessor',\n",
      "                 ColumnTransformer(remainder='passthrough',\n",
      "                                   transformers=[('scalar', StandardScaler(),\n",
      "                                                  ['grid_pos', 'fastest_lap',\n",
      "                                                   'fastest_lap_avg_speed'])])),\n",
      "                ('model',\n",
      "                 RandomForestRegressor(max_depth=20, n_estimators=200,\n",
      "                                       random_state=25))]), 'model_id': 'randomforest', 'best_params': {'model__max_depth': 20, 'model__min_samples_leaf': 1, 'model__n_estimators': 200}, 'cv_MAE': np.float64(2.2118501889858684), 'test_MAE': np.float64(2.166079243813199)}\n"
     ]
    }
   ],
   "source": [
    "rf_results = train_test('randomforest')\n",
    "print(rf_results)"
   ]
  }
 ],
 "metadata": {
  "kernelspec": {
   "display_name": "Python 3",
   "language": "python",
   "name": "python3"
  },
  "language_info": {
   "codemirror_mode": {
    "name": "ipython",
    "version": 3
   },
   "file_extension": ".py",
   "mimetype": "text/x-python",
   "name": "python",
   "nbconvert_exporter": "python",
   "pygments_lexer": "ipython3",
   "version": "3.12.4"
  }
 },
 "nbformat": 4,
 "nbformat_minor": 2
}
