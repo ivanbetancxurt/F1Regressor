{
 "cells": [
  {
   "cell_type": "code",
   "execution_count": 1,
   "metadata": {},
   "outputs": [],
   "source": [
    "from train_test import train_test"
   ]
  },
  {
   "cell_type": "code",
   "execution_count": 2,
   "metadata": {},
   "outputs": [
    {
     "name": "stdout",
     "output_type": "stream",
     "text": [
      "⚠️ model__n_estimators = 400 at grid edge [200, 300, 400]!\n",
      "⚠️ model__max_depth = 20 at grid edge [20, 40, 50]!\n",
      "{'model_id': 'randomforest', 'best_params': {'model__max_depth': 20, 'model__n_estimators': 400}, 'cv_MAE': np.float64(2.2107420297714686), 'test_MAE': np.float64(2.1648107635876364)}\n"
     ]
    }
   ],
   "source": [
    "rf_results = train_test('randomforest')\n",
    "print(rf_results)"
   ]
  },
  {
   "cell_type": "code",
   "execution_count": 2,
   "metadata": {},
   "outputs": [
    {
     "name": "stdout",
     "output_type": "stream",
     "text": [
      "⚠️ model__n_estimators = 600 at grid edge [400, 500, 600]!\n",
      "⚠️ model__max_depth = 20 at grid edge [10, 15, 20]!\n",
      "{'model_id': 'randomforest', 'best_params': {'model__max_depth': 20, 'model__n_estimators': 600}, 'cv_MAE': np.float64(2.2095664245473223), 'test_MAE': np.float64(2.166544103287224)}\n"
     ]
    }
   ],
   "source": [
    "rf_results = train_test('randomforest')\n",
    "print(rf_results)"
   ]
  },
  {
   "cell_type": "code",
   "execution_count": 2,
   "metadata": {},
   "outputs": [
    {
     "name": "stdout",
     "output_type": "stream",
     "text": [
      "⚠️ model__max_depth = 23 at grid edge [17, 20, 23]!\n",
      "{'model_id': 'randomforest', 'best_params': {'model__max_depth': 23, 'model__n_estimators': 700}, 'cv_MAE': np.float64(2.209419631740153), 'test_MAE': np.float64(2.1639213203409726)}\n"
     ]
    }
   ],
   "source": [
    "rf_results = train_test('randomforest')\n",
    "print(rf_results)"
   ]
  },
  {
   "cell_type": "code",
   "execution_count": 3,
   "metadata": {},
   "outputs": [
    {
     "name": "stdout",
     "output_type": "stream",
     "text": [
      "{'model_id': 'ridge', 'best_params': {'model__alpha': 1.0}, 'cv_MAE': np.float64(2.6053989549648238), 'test_MAE': np.float64(2.558302540633457)}\n"
     ]
    }
   ],
   "source": [
    "ridge_results = train_test('ridge')\n",
    "print(ridge_results)"
   ]
  },
  {
   "cell_type": "code",
   "execution_count": 2,
   "metadata": {},
   "outputs": [
    {
     "name": "stdout",
     "output_type": "stream",
     "text": [
      "⚠️ model__alpha = 1.5 at grid edge [0.5, 0.75, 1, 1.25, 1.5]!\n",
      "{'model_id': 'ridge', 'best_params': {'model__alpha': 1.5}, 'cv_MAE': np.float64(2.6045071929467962), 'test_MAE': np.float64(2.557282598477815)}\n"
     ]
    }
   ],
   "source": [
    "ridge_results = train_test('ridge')\n",
    "print(ridge_results)"
   ]
  },
  {
   "cell_type": "code",
   "execution_count": 2,
   "metadata": {},
   "outputs": [
    {
     "name": "stdout",
     "output_type": "stream",
     "text": [
      "{'model_id': 'ridge', 'best_params': {'model__alpha': 5}, 'cv_MAE': np.float64(2.603171134488046), 'test_MAE': np.float64(2.55620184017129)}\n"
     ]
    }
   ],
   "source": [
    "ridge_results = train_test('ridge')\n",
    "print(ridge_results)"
   ]
  },
  {
   "cell_type": "code",
   "execution_count": 2,
   "metadata": {},
   "outputs": [
    {
     "name": "stdout",
     "output_type": "stream",
     "text": [
      "⚠️ model__gamma = 0.1 at grid edge ['scale', 'auto', 0.001, 0.01, 0.1]!\n",
      "{'model_id': 'svr', 'best_params': {'model__C': 10.0, 'model__gamma': 0.1}, 'cv_MAE': np.float64(2.183558884209734), 'test_MAE': np.float64(2.1301703072711144)}\n"
     ]
    }
   ],
   "source": [
    "svr_results = train_test('svr')\n",
    "print(svr_results)"
   ]
  },
  {
   "cell_type": "code",
   "execution_count": 2,
   "metadata": {},
   "outputs": [
    {
     "name": "stdout",
     "output_type": "stream",
     "text": [
      "⚠️ model__gamma = 0.1 at grid edge [0.1, 0.5, 1]!\n",
      "{'model_id': 'svr', 'best_params': {'model__C': 10.0, 'model__gamma': 0.1}, 'cv_MAE': np.float64(2.183558884209734), 'test_MAE': np.float64(2.1301703072711144)}\n"
     ]
    }
   ],
   "source": [
    "svr_results = train_test('svr')\n",
    "print(svr_results)"
   ]
  },
  {
   "cell_type": "code",
   "execution_count": null,
   "metadata": {},
   "outputs": [],
   "source": []
  }
 ],
 "metadata": {
  "kernelspec": {
   "display_name": "Python 3",
   "language": "python",
   "name": "python3"
  },
  "language_info": {
   "codemirror_mode": {
    "name": "ipython",
    "version": 3
   },
   "file_extension": ".py",
   "mimetype": "text/x-python",
   "name": "python",
   "nbconvert_exporter": "python",
   "pygments_lexer": "ipython3",
   "version": "3.12.4"
  }
 },
 "nbformat": 4,
 "nbformat_minor": 2
}
