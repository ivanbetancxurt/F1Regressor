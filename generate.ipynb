{
 "cells": [
  {
   "cell_type": "code",
   "execution_count": 19,
   "metadata": {},
   "outputs": [],
   "source": [
    "import os\n",
    "import pandas as pd\n",
    "import numpy as np\n",
    "import requests as req\n",
    "import json as JSON\n",
    "import matplotlib.pyplot as plt\n",
    "\n",
    "URL = 'http://ergast.com/api/f1'"
   ]
  },
  {
   "cell_type": "code",
   "execution_count": null,
   "metadata": {},
   "outputs": [],
   "source": [
    "'''\n",
    "years = [2004, 2005, 2006, 2007, 2008, 2009, 2010, 2011, 2012, 2013, 2014, 2015, 2016, 2017, 2018, 2019, 2020, 2021, 2022, 2023, 2024]\n",
    "\n",
    "for year in years:\n",
    "    for round in range(1, 25):\n",
    "        try:\n",
    "            race = req.get(f'{URL}/{year}/{round}/results.json') # fetch race\n",
    "\n",
    "            # make new json file and populate it with fetched race json\n",
    "            with open(f'data/jsons/{year}_round{round}_race.json', 'w') as f:\n",
    "                JSON.dump(race.json(), f, indent=4)\n",
    "        except Exception as e:\n",
    "            print(f'An error occurred: {e}')\n",
    "            continue\n",
    "'''"
   ]
  },
  {
   "cell_type": "code",
   "execution_count": null,
   "metadata": {},
   "outputs": [],
   "source": [
    "'''\n",
    "for json in os.listdir('data/jsons'):\n",
    "    json_path = os.path.join('data/jsons', json) # build path of each json\n",
    "\n",
    "    if os.path.isfile(json_path): \n",
    "        with open(json_path, 'r') as f: # load json into a variable for modification\n",
    "            race = JSON.load(f)\n",
    "        \n",
    "        race = race['MRData']['RaceTable']['Races'][0] # remove extra info surrounding the needed data\n",
    "        with open(json_path, 'w') as f: # overwite the original json with the modified one\n",
    "            JSON.dump(race, f, indent=4)\n",
    "'''"
   ]
  },
  {
   "cell_type": "code",
   "execution_count": 3,
   "metadata": {},
   "outputs": [
    {
     "name": "stdout",
     "output_type": "stream",
     "text": [
      "{'rank': '1', 'lap': '29', 'Time': {'time': '1:24.125'}, 'AverageSpeed': {'units': 'kph', 'speed': '226.933'}}\n"
     ]
    }
   ],
   "source": [
    "with open('data/jsons/2004_round1_race.json', 'r') as f:\n",
    "    test = JSON.load(f)\n",
    "\n",
    "print(test['Results'][0]['FastestLap'])"
   ]
  },
  {
   "cell_type": "code",
   "execution_count": 25,
   "metadata": {},
   "outputs": [],
   "source": [
    "instances = [] # initialize collection of rows\n",
    "count = 0\n",
    "\n",
    "for race in os.listdir('data/jsons'):\n",
    "    race_path = os.path.join('data/jsons', race) # build path of race\n",
    "\n",
    "    if os.path.isfile(race_path):\n",
    "        with open(race_path, 'r') as f: # load race json in a variable for extraction\n",
    "            race_data = JSON.load(f)\n",
    "    else:\n",
    "        print(f'This file does not exist: {race_path}')\n",
    "    count += 1\n",
    "    # create a dictionary for this specific instance\n",
    "    for result in race_data['Results']:\n",
    "        instance = {}\n",
    "        instance['finishing_pos'] = int(result['position'])\n",
    "        instance['circuit_id'] = race_data['Circuit']['circuitId']\n",
    "        instance['driver_id'] = result['Driver']['driverId']\n",
    "        instance['constructor_id'] = result['Constructor']['constructorId']\n",
    "        instance['grid_pos'] = int(result['grid'])\n",
    "        instance['status'] = result['status'] if result['status'][0] != '+' else 'Finished'\n",
    "\n",
    "        instance['fastest_lap_missing'] = 0\n",
    "        try:\n",
    "            instance['fastest_lap'] = result['FastestLap']['Time']['time']\n",
    "            instance['fastest_lap_avg_speed'] = result['FastestLap']['AverageSpeed']['speed']\n",
    "        except Exception:\n",
    "            instance['fastest_lap'] = 300\n",
    "            instance['fastest_lap_avg_speed'] = 0\n",
    "            instance['fastest_lap_missing'] = 1\n",
    "        \n",
    "        instances.append(instance)\n",
    "raw_df = pd.DataFrame(instances)\n",
    "raw_df.to_csv('data/dataframes/raw.csv', index=False)"
   ]
  }
 ],
 "metadata": {
  "kernelspec": {
   "display_name": "Python 3",
   "language": "python",
   "name": "python3"
  },
  "language_info": {
   "codemirror_mode": {
    "name": "ipython",
    "version": 3
   },
   "file_extension": ".py",
   "mimetype": "text/x-python",
   "name": "python",
   "nbconvert_exporter": "python",
   "pygments_lexer": "ipython3",
   "version": "3.12.4"
  }
 },
 "nbformat": 4,
 "nbformat_minor": 2
}
