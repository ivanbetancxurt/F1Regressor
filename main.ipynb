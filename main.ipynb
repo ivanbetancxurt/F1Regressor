{
 "cells": [
  {
   "cell_type": "code",
   "execution_count": 12,
   "metadata": {},
   "outputs": [],
   "source": [
    "import os\n",
    "import pandas as pd\n",
    "import numpy as np\n",
    "import requests as req\n",
    "import json as JSON\n",
    "\n",
    "URL = 'http://ergast.com/api/f1'"
   ]
  },
  {
   "cell_type": "code",
   "execution_count": null,
   "metadata": {},
   "outputs": [],
   "source": [
    "years = [2004, 2005, 2006, 2007, 2008, 2009, 2010, 2011, 2012, 2013, 2014, 2015, 2016, 2017, 2018, 2019, 2020, 2021, 2022, 2023, 2024]\n",
    "\n",
    "for year in years:\n",
    "    for round in range(1, 25):\n",
    "        try:\n",
    "            race = req.get(f'{URL}/{year}/{round}/results.json') # fetch race\n",
    "\n",
    "            # make new json file and populate it with fetched race json\n",
    "            with open(f'data/jsons/{year}_round{round}_race.json', 'w') as f:\n",
    "                JSON.dump(race.json(), f, indent=4)\n",
    "        except Exception as e:\n",
    "            print(f'An error occurred: {e}')\n",
    "            continue"
   ]
  },
  {
   "cell_type": "code",
   "execution_count": null,
   "metadata": {},
   "outputs": [],
   "source": [
    "for json in os.listdir('data/jsons'):\n",
    "    json_path = os.path.join('data/jsons', json) # build path of each json\n",
    "\n",
    "    if os.path.isfile(json_path): \n",
    "        with open(json_path, 'r') as f: # load json into a variable for modification\n",
    "            race = JSON.load(f)\n",
    "        \n",
    "        race = race['MRData']['RaceTable']['Races'][0] # remove extra info surrounding the needed data\n",
    "        with open(json_path, 'w') as f: # overwite the original json with the modified one\n",
    "            JSON.dump(race, f, indent=4)"
   ]
  }
 ],
 "metadata": {
  "kernelspec": {
   "display_name": "Python 3",
   "language": "python",
   "name": "python3"
  },
  "language_info": {
   "codemirror_mode": {
    "name": "ipython",
    "version": 3
   },
   "file_extension": ".py",
   "mimetype": "text/x-python",
   "name": "python",
   "nbconvert_exporter": "python",
   "pygments_lexer": "ipython3",
   "version": "3.12.4"
  }
 },
 "nbformat": 4,
 "nbformat_minor": 2
}
